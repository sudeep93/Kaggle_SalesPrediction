{
 "cells": [
  {
   "cell_type": "markdown",
   "metadata": {},
   "source": [
    "# Second Assignment for the CE889 - Neural Networks course\n",
    "\n",
    "## Group #18\n",
    "\n",
    "### Team members:\n",
    "\n",
    "Sudeep Sawant\n",
    "\n",
    "Francisco Sánchez\n",
    "\n",
    "James Scoon\n",
    "\n",
    "### The first step of the assignment was to import the necessary libraries:"
   ]
  },
  {
   "cell_type": "code",
   "execution_count": 1,
   "metadata": {},
   "outputs": [
    {
     "name": "stderr",
     "output_type": "stream",
     "text": [
      "Using TensorFlow backend.\n"
     ]
    }
   ],
   "source": [
    "import numpy as np\n",
    "import pandas as pd\n",
    "import math\n",
    "from sklearn.model_selection import train_test_split\n",
    "from sklearn.preprocessing import MinMaxScaler\n",
    "import keras\n",
    "from keras.models import Sequential\n",
    "from keras.layers import Conv2D, MaxPooling2D, Flatten, Dense\n",
    "from keras.callbacks import EarlyStopping"
   ]
  },
  {
   "cell_type": "markdown",
   "metadata": {},
   "source": [
    "### Then the data files are read and preprocessed\n",
    "\n",
    "The train_complete and test_complete files are created in the Generate Missing Rows notebook, because not all days had the correct amount of rows, which would cause problems feeding into the Convolutional Neural Network"
   ]
  },
  {
   "cell_type": "code",
   "execution_count": 2,
   "metadata": {},
   "outputs": [
    {
     "data": {
      "text/html": [
       "<div>\n",
       "<style scoped>\n",
       "    .dataframe tbody tr th:only-of-type {\n",
       "        vertical-align: middle;\n",
       "    }\n",
       "\n",
       "    .dataframe tbody tr th {\n",
       "        vertical-align: top;\n",
       "    }\n",
       "\n",
       "    .dataframe thead th {\n",
       "        text-align: right;\n",
       "    }\n",
       "</style>\n",
       "<table border=\"1\" class=\"dataframe\">\n",
       "  <thead>\n",
       "    <tr style=\"text-align: right;\">\n",
       "      <th></th>\n",
       "      <th>Store</th>\n",
       "      <th>StoreType</th>\n",
       "      <th>Assortment</th>\n",
       "      <th>CompetitionDistance</th>\n",
       "      <th>CompetitionOpenSinceMonth</th>\n",
       "      <th>CompetitionOpenSinceYear</th>\n",
       "      <th>Promo2</th>\n",
       "      <th>Promo2SinceWeek</th>\n",
       "      <th>Promo2SinceYear</th>\n",
       "      <th>PromoInterval</th>\n",
       "    </tr>\n",
       "  </thead>\n",
       "  <tbody>\n",
       "    <tr>\n",
       "      <th>0</th>\n",
       "      <td>1</td>\n",
       "      <td>c</td>\n",
       "      <td>a</td>\n",
       "      <td>1270.0</td>\n",
       "      <td>9.0</td>\n",
       "      <td>2008.0</td>\n",
       "      <td>0</td>\n",
       "      <td>NaN</td>\n",
       "      <td>NaN</td>\n",
       "      <td>NaN</td>\n",
       "    </tr>\n",
       "    <tr>\n",
       "      <th>1</th>\n",
       "      <td>2</td>\n",
       "      <td>a</td>\n",
       "      <td>a</td>\n",
       "      <td>570.0</td>\n",
       "      <td>11.0</td>\n",
       "      <td>2007.0</td>\n",
       "      <td>1</td>\n",
       "      <td>13.0</td>\n",
       "      <td>2010.0</td>\n",
       "      <td>Jan,Apr,Jul,Oct</td>\n",
       "    </tr>\n",
       "    <tr>\n",
       "      <th>2</th>\n",
       "      <td>3</td>\n",
       "      <td>a</td>\n",
       "      <td>a</td>\n",
       "      <td>14130.0</td>\n",
       "      <td>12.0</td>\n",
       "      <td>2006.0</td>\n",
       "      <td>1</td>\n",
       "      <td>14.0</td>\n",
       "      <td>2011.0</td>\n",
       "      <td>Jan,Apr,Jul,Oct</td>\n",
       "    </tr>\n",
       "    <tr>\n",
       "      <th>3</th>\n",
       "      <td>4</td>\n",
       "      <td>c</td>\n",
       "      <td>c</td>\n",
       "      <td>620.0</td>\n",
       "      <td>9.0</td>\n",
       "      <td>2009.0</td>\n",
       "      <td>0</td>\n",
       "      <td>NaN</td>\n",
       "      <td>NaN</td>\n",
       "      <td>NaN</td>\n",
       "    </tr>\n",
       "    <tr>\n",
       "      <th>4</th>\n",
       "      <td>5</td>\n",
       "      <td>a</td>\n",
       "      <td>a</td>\n",
       "      <td>29910.0</td>\n",
       "      <td>4.0</td>\n",
       "      <td>2015.0</td>\n",
       "      <td>0</td>\n",
       "      <td>NaN</td>\n",
       "      <td>NaN</td>\n",
       "      <td>NaN</td>\n",
       "    </tr>\n",
       "  </tbody>\n",
       "</table>\n",
       "</div>"
      ],
      "text/plain": [
       "   Store StoreType Assortment  CompetitionDistance  CompetitionOpenSinceMonth  \\\n",
       "0      1         c          a               1270.0                        9.0   \n",
       "1      2         a          a                570.0                       11.0   \n",
       "2      3         a          a              14130.0                       12.0   \n",
       "3      4         c          c                620.0                        9.0   \n",
       "4      5         a          a              29910.0                        4.0   \n",
       "\n",
       "   CompetitionOpenSinceYear  Promo2  Promo2SinceWeek  Promo2SinceYear  \\\n",
       "0                    2008.0       0              NaN              NaN   \n",
       "1                    2007.0       1             13.0           2010.0   \n",
       "2                    2006.0       1             14.0           2011.0   \n",
       "3                    2009.0       0              NaN              NaN   \n",
       "4                    2015.0       0              NaN              NaN   \n",
       "\n",
       "     PromoInterval  \n",
       "0              NaN  \n",
       "1  Jan,Apr,Jul,Oct  \n",
       "2  Jan,Apr,Jul,Oct  \n",
       "3              NaN  \n",
       "4              NaN  "
      ]
     },
     "execution_count": 2,
     "metadata": {},
     "output_type": "execute_result"
    }
   ],
   "source": [
    "stores = pd.read_csv(\"store.csv\")\n",
    "stores.head()"
   ]
  },
  {
   "cell_type": "code",
   "execution_count": 3,
   "metadata": {},
   "outputs": [
    {
     "name": "stderr",
     "output_type": "stream",
     "text": [
      "/home/james/miniconda3/envs/ce802/lib/python3.7/site-packages/IPython/core/interactiveshell.py:3146: DtypeWarning: Columns (7) have mixed types.Specify dtype option on import or set low_memory=False.\n",
      "  interactivity=interactivity, compiler=compiler, result=result)\n"
     ]
    },
    {
     "data": {
      "text/html": [
       "<div>\n",
       "<style scoped>\n",
       "    .dataframe tbody tr th:only-of-type {\n",
       "        vertical-align: middle;\n",
       "    }\n",
       "\n",
       "    .dataframe tbody tr th {\n",
       "        vertical-align: top;\n",
       "    }\n",
       "\n",
       "    .dataframe thead th {\n",
       "        text-align: right;\n",
       "    }\n",
       "</style>\n",
       "<table border=\"1\" class=\"dataframe\">\n",
       "  <thead>\n",
       "    <tr style=\"text-align: right;\">\n",
       "      <th></th>\n",
       "      <th>Store</th>\n",
       "      <th>DayOfWeek</th>\n",
       "      <th>Date</th>\n",
       "      <th>Sales</th>\n",
       "      <th>Customers</th>\n",
       "      <th>Open</th>\n",
       "      <th>Promo</th>\n",
       "      <th>StateHoliday</th>\n",
       "      <th>SchoolHoliday</th>\n",
       "    </tr>\n",
       "  </thead>\n",
       "  <tbody>\n",
       "    <tr>\n",
       "      <th>0</th>\n",
       "      <td>1</td>\n",
       "      <td>5</td>\n",
       "      <td>2015-07-31</td>\n",
       "      <td>5263</td>\n",
       "      <td>555</td>\n",
       "      <td>1</td>\n",
       "      <td>1</td>\n",
       "      <td>0</td>\n",
       "      <td>1</td>\n",
       "    </tr>\n",
       "    <tr>\n",
       "      <th>1</th>\n",
       "      <td>2</td>\n",
       "      <td>5</td>\n",
       "      <td>2015-07-31</td>\n",
       "      <td>6064</td>\n",
       "      <td>625</td>\n",
       "      <td>1</td>\n",
       "      <td>1</td>\n",
       "      <td>0</td>\n",
       "      <td>1</td>\n",
       "    </tr>\n",
       "    <tr>\n",
       "      <th>2</th>\n",
       "      <td>3</td>\n",
       "      <td>5</td>\n",
       "      <td>2015-07-31</td>\n",
       "      <td>8314</td>\n",
       "      <td>821</td>\n",
       "      <td>1</td>\n",
       "      <td>1</td>\n",
       "      <td>0</td>\n",
       "      <td>1</td>\n",
       "    </tr>\n",
       "    <tr>\n",
       "      <th>3</th>\n",
       "      <td>4</td>\n",
       "      <td>5</td>\n",
       "      <td>2015-07-31</td>\n",
       "      <td>13995</td>\n",
       "      <td>1498</td>\n",
       "      <td>1</td>\n",
       "      <td>1</td>\n",
       "      <td>0</td>\n",
       "      <td>1</td>\n",
       "    </tr>\n",
       "    <tr>\n",
       "      <th>4</th>\n",
       "      <td>5</td>\n",
       "      <td>5</td>\n",
       "      <td>2015-07-31</td>\n",
       "      <td>4822</td>\n",
       "      <td>559</td>\n",
       "      <td>1</td>\n",
       "      <td>1</td>\n",
       "      <td>0</td>\n",
       "      <td>1</td>\n",
       "    </tr>\n",
       "  </tbody>\n",
       "</table>\n",
       "</div>"
      ],
      "text/plain": [
       "   Store  DayOfWeek        Date  Sales  Customers  Open  Promo StateHoliday  \\\n",
       "0      1          5  2015-07-31   5263        555     1      1            0   \n",
       "1      2          5  2015-07-31   6064        625     1      1            0   \n",
       "2      3          5  2015-07-31   8314        821     1      1            0   \n",
       "3      4          5  2015-07-31  13995       1498     1      1            0   \n",
       "4      5          5  2015-07-31   4822        559     1      1            0   \n",
       "\n",
       "   SchoolHoliday  \n",
       "0              1  \n",
       "1              1  \n",
       "2              1  \n",
       "3              1  \n",
       "4              1  "
      ]
     },
     "execution_count": 3,
     "metadata": {},
     "output_type": "execute_result"
    }
   ],
   "source": [
    "training = pd.read_csv(\"train_complete.csv\")\n",
    "training.head()"
   ]
  },
  {
   "cell_type": "code",
   "execution_count": 4,
   "metadata": {
    "scrolled": true
   },
   "outputs": [
    {
     "data": {
      "text/html": [
       "<div>\n",
       "<style scoped>\n",
       "    .dataframe tbody tr th:only-of-type {\n",
       "        vertical-align: middle;\n",
       "    }\n",
       "\n",
       "    .dataframe tbody tr th {\n",
       "        vertical-align: top;\n",
       "    }\n",
       "\n",
       "    .dataframe thead th {\n",
       "        text-align: right;\n",
       "    }\n",
       "</style>\n",
       "<table border=\"1\" class=\"dataframe\">\n",
       "  <thead>\n",
       "    <tr style=\"text-align: right;\">\n",
       "      <th></th>\n",
       "      <th>Id</th>\n",
       "      <th>Store</th>\n",
       "      <th>DayOfWeek</th>\n",
       "      <th>Date</th>\n",
       "      <th>Open</th>\n",
       "      <th>Promo</th>\n",
       "      <th>StateHoliday</th>\n",
       "      <th>SchoolHoliday</th>\n",
       "    </tr>\n",
       "  </thead>\n",
       "  <tbody>\n",
       "    <tr>\n",
       "      <th>0</th>\n",
       "      <td>1</td>\n",
       "      <td>1</td>\n",
       "      <td>4</td>\n",
       "      <td>2015-09-17</td>\n",
       "      <td>1.0</td>\n",
       "      <td>1</td>\n",
       "      <td>0</td>\n",
       "      <td>0</td>\n",
       "    </tr>\n",
       "    <tr>\n",
       "      <th>1</th>\n",
       "      <td>0</td>\n",
       "      <td>2</td>\n",
       "      <td>4</td>\n",
       "      <td>2015-09-17</td>\n",
       "      <td>0.0</td>\n",
       "      <td>0</td>\n",
       "      <td>0</td>\n",
       "      <td>0</td>\n",
       "    </tr>\n",
       "    <tr>\n",
       "      <th>2</th>\n",
       "      <td>2</td>\n",
       "      <td>3</td>\n",
       "      <td>4</td>\n",
       "      <td>2015-09-17</td>\n",
       "      <td>1.0</td>\n",
       "      <td>1</td>\n",
       "      <td>0</td>\n",
       "      <td>0</td>\n",
       "    </tr>\n",
       "    <tr>\n",
       "      <th>3</th>\n",
       "      <td>0</td>\n",
       "      <td>4</td>\n",
       "      <td>4</td>\n",
       "      <td>2015-09-17</td>\n",
       "      <td>0.0</td>\n",
       "      <td>0</td>\n",
       "      <td>0</td>\n",
       "      <td>0</td>\n",
       "    </tr>\n",
       "    <tr>\n",
       "      <th>4</th>\n",
       "      <td>0</td>\n",
       "      <td>5</td>\n",
       "      <td>4</td>\n",
       "      <td>2015-09-17</td>\n",
       "      <td>0.0</td>\n",
       "      <td>0</td>\n",
       "      <td>0</td>\n",
       "      <td>0</td>\n",
       "    </tr>\n",
       "  </tbody>\n",
       "</table>\n",
       "</div>"
      ],
      "text/plain": [
       "   Id  Store  DayOfWeek        Date  Open  Promo StateHoliday  SchoolHoliday\n",
       "0   1      1          4  2015-09-17   1.0      1            0              0\n",
       "1   0      2          4  2015-09-17   0.0      0            0              0\n",
       "2   2      3          4  2015-09-17   1.0      1            0              0\n",
       "3   0      4          4  2015-09-17   0.0      0            0              0\n",
       "4   0      5          4  2015-09-17   0.0      0            0              0"
      ]
     },
     "execution_count": 4,
     "metadata": {},
     "output_type": "execute_result"
    }
   ],
   "source": [
    "testing = pd.read_csv(\"test_complete.csv\")\n",
    "testing.head()"
   ]
  },
  {
   "cell_type": "markdown",
   "metadata": {},
   "source": [
    "#### The dates are then separated into months and years"
   ]
  },
  {
   "cell_type": "code",
   "execution_count": 5,
   "metadata": {},
   "outputs": [],
   "source": [
    "training['Year'] = training['Date'].apply(lambda x: int(str(x)[:4]))\n",
    "training['Month'] = training['Date'].apply(lambda x: int(str(x)[5:7]))\n",
    "\n",
    "testing['Year'] = testing['Date'].apply(lambda x: int(str(x)[:4]))\n",
    "testing['Month'] = testing['Date'].apply(lambda x: int(str(x)[5:7]))"
   ]
  },
  {
   "cell_type": "markdown",
   "metadata": {},
   "source": [
    "#### The date and ID columns are dropped because we now have the years and months"
   ]
  },
  {
   "cell_type": "code",
   "execution_count": 6,
   "metadata": {},
   "outputs": [],
   "source": [
    "training.drop([\"Date\"],axis = 1, inplace = True)\n",
    "testing.drop([\"Date\"],axis = 1, inplace = True)\n",
    "#testing.drop([\"Id\"],axis = 1, inplace = True)"
   ]
  },
  {
   "cell_type": "markdown",
   "metadata": {},
   "source": [
    "#### StateHoliday has values 0 & \"0\", So, all 0 values are converted to \"0\""
   ]
  },
  {
   "cell_type": "code",
   "execution_count": 7,
   "metadata": {},
   "outputs": [],
   "source": [
    "training[\"StateHoliday\"] = training[\"StateHoliday\"].replace(0, \"0\")\n",
    "testing[\"StateHoliday\"] = testing[\"StateHoliday\"].replace(0, \"0\")"
   ]
  },
  {
   "cell_type": "markdown",
   "metadata": {},
   "source": [
    "#### The stores are integrated into the training set"
   ]
  },
  {
   "cell_type": "code",
   "execution_count": 8,
   "metadata": {
    "scrolled": true
   },
   "outputs": [
    {
     "data": {
      "text/html": [
       "<div>\n",
       "<style scoped>\n",
       "    .dataframe tbody tr th:only-of-type {\n",
       "        vertical-align: middle;\n",
       "    }\n",
       "\n",
       "    .dataframe tbody tr th {\n",
       "        vertical-align: top;\n",
       "    }\n",
       "\n",
       "    .dataframe thead th {\n",
       "        text-align: right;\n",
       "    }\n",
       "</style>\n",
       "<table border=\"1\" class=\"dataframe\">\n",
       "  <thead>\n",
       "    <tr style=\"text-align: right;\">\n",
       "      <th></th>\n",
       "      <th>DayOfWeek</th>\n",
       "      <th>Sales</th>\n",
       "      <th>Customers</th>\n",
       "      <th>Open</th>\n",
       "      <th>Promo</th>\n",
       "      <th>StateHoliday</th>\n",
       "      <th>SchoolHoliday</th>\n",
       "      <th>Year</th>\n",
       "      <th>Month</th>\n",
       "      <th>StoreType</th>\n",
       "      <th>Assortment</th>\n",
       "      <th>CompetitionDistance</th>\n",
       "      <th>CompetitionOpenSinceMonth</th>\n",
       "      <th>CompetitionOpenSinceYear</th>\n",
       "      <th>Promo2</th>\n",
       "      <th>Promo2SinceWeek</th>\n",
       "      <th>Promo2SinceYear</th>\n",
       "      <th>PromoInterval</th>\n",
       "    </tr>\n",
       "  </thead>\n",
       "  <tbody>\n",
       "    <tr>\n",
       "      <th>0</th>\n",
       "      <td>5</td>\n",
       "      <td>5263</td>\n",
       "      <td>555</td>\n",
       "      <td>1</td>\n",
       "      <td>1</td>\n",
       "      <td>0</td>\n",
       "      <td>1</td>\n",
       "      <td>2015</td>\n",
       "      <td>7</td>\n",
       "      <td>c</td>\n",
       "      <td>a</td>\n",
       "      <td>1270.0</td>\n",
       "      <td>9.0</td>\n",
       "      <td>2008.0</td>\n",
       "      <td>0</td>\n",
       "      <td>NaN</td>\n",
       "      <td>NaN</td>\n",
       "      <td>NaN</td>\n",
       "    </tr>\n",
       "    <tr>\n",
       "      <th>1</th>\n",
       "      <td>5</td>\n",
       "      <td>6064</td>\n",
       "      <td>625</td>\n",
       "      <td>1</td>\n",
       "      <td>1</td>\n",
       "      <td>0</td>\n",
       "      <td>1</td>\n",
       "      <td>2015</td>\n",
       "      <td>7</td>\n",
       "      <td>a</td>\n",
       "      <td>a</td>\n",
       "      <td>570.0</td>\n",
       "      <td>11.0</td>\n",
       "      <td>2007.0</td>\n",
       "      <td>1</td>\n",
       "      <td>13.0</td>\n",
       "      <td>2010.0</td>\n",
       "      <td>Jan,Apr,Jul,Oct</td>\n",
       "    </tr>\n",
       "    <tr>\n",
       "      <th>2</th>\n",
       "      <td>5</td>\n",
       "      <td>8314</td>\n",
       "      <td>821</td>\n",
       "      <td>1</td>\n",
       "      <td>1</td>\n",
       "      <td>0</td>\n",
       "      <td>1</td>\n",
       "      <td>2015</td>\n",
       "      <td>7</td>\n",
       "      <td>a</td>\n",
       "      <td>a</td>\n",
       "      <td>14130.0</td>\n",
       "      <td>12.0</td>\n",
       "      <td>2006.0</td>\n",
       "      <td>1</td>\n",
       "      <td>14.0</td>\n",
       "      <td>2011.0</td>\n",
       "      <td>Jan,Apr,Jul,Oct</td>\n",
       "    </tr>\n",
       "    <tr>\n",
       "      <th>3</th>\n",
       "      <td>5</td>\n",
       "      <td>13995</td>\n",
       "      <td>1498</td>\n",
       "      <td>1</td>\n",
       "      <td>1</td>\n",
       "      <td>0</td>\n",
       "      <td>1</td>\n",
       "      <td>2015</td>\n",
       "      <td>7</td>\n",
       "      <td>c</td>\n",
       "      <td>c</td>\n",
       "      <td>620.0</td>\n",
       "      <td>9.0</td>\n",
       "      <td>2009.0</td>\n",
       "      <td>0</td>\n",
       "      <td>NaN</td>\n",
       "      <td>NaN</td>\n",
       "      <td>NaN</td>\n",
       "    </tr>\n",
       "    <tr>\n",
       "      <th>4</th>\n",
       "      <td>5</td>\n",
       "      <td>4822</td>\n",
       "      <td>559</td>\n",
       "      <td>1</td>\n",
       "      <td>1</td>\n",
       "      <td>0</td>\n",
       "      <td>1</td>\n",
       "      <td>2015</td>\n",
       "      <td>7</td>\n",
       "      <td>a</td>\n",
       "      <td>a</td>\n",
       "      <td>29910.0</td>\n",
       "      <td>4.0</td>\n",
       "      <td>2015.0</td>\n",
       "      <td>0</td>\n",
       "      <td>NaN</td>\n",
       "      <td>NaN</td>\n",
       "      <td>NaN</td>\n",
       "    </tr>\n",
       "  </tbody>\n",
       "</table>\n",
       "</div>"
      ],
      "text/plain": [
       "   DayOfWeek  Sales  Customers  Open  Promo StateHoliday  SchoolHoliday  Year  \\\n",
       "0          5   5263        555     1      1            0              1  2015   \n",
       "1          5   6064        625     1      1            0              1  2015   \n",
       "2          5   8314        821     1      1            0              1  2015   \n",
       "3          5  13995       1498     1      1            0              1  2015   \n",
       "4          5   4822        559     1      1            0              1  2015   \n",
       "\n",
       "   Month StoreType Assortment  CompetitionDistance  CompetitionOpenSinceMonth  \\\n",
       "0      7         c          a               1270.0                        9.0   \n",
       "1      7         a          a                570.0                       11.0   \n",
       "2      7         a          a              14130.0                       12.0   \n",
       "3      7         c          c                620.0                        9.0   \n",
       "4      7         a          a              29910.0                        4.0   \n",
       "\n",
       "   CompetitionOpenSinceYear  Promo2  Promo2SinceWeek  Promo2SinceYear  \\\n",
       "0                    2008.0       0              NaN              NaN   \n",
       "1                    2007.0       1             13.0           2010.0   \n",
       "2                    2006.0       1             14.0           2011.0   \n",
       "3                    2009.0       0              NaN              NaN   \n",
       "4                    2015.0       0              NaN              NaN   \n",
       "\n",
       "     PromoInterval  \n",
       "0              NaN  \n",
       "1  Jan,Apr,Jul,Oct  \n",
       "2  Jan,Apr,Jul,Oct  \n",
       "3              NaN  \n",
       "4              NaN  "
      ]
     },
     "execution_count": 8,
     "metadata": {},
     "output_type": "execute_result"
    }
   ],
   "source": [
    "training_store = pd.merge(training, stores, how = 'left', on = 'Store')\n",
    "training_store.drop([\"Store\"], axis = 1, inplace = True)\n",
    "training_store.head()"
   ]
  },
  {
   "cell_type": "markdown",
   "metadata": {},
   "source": [
    "#### The data for the stores is merged with the testing data as well"
   ]
  },
  {
   "cell_type": "code",
   "execution_count": 9,
   "metadata": {
    "scrolled": true
   },
   "outputs": [
    {
     "data": {
      "text/html": [
       "<div>\n",
       "<style scoped>\n",
       "    .dataframe tbody tr th:only-of-type {\n",
       "        vertical-align: middle;\n",
       "    }\n",
       "\n",
       "    .dataframe tbody tr th {\n",
       "        vertical-align: top;\n",
       "    }\n",
       "\n",
       "    .dataframe thead th {\n",
       "        text-align: right;\n",
       "    }\n",
       "</style>\n",
       "<table border=\"1\" class=\"dataframe\">\n",
       "  <thead>\n",
       "    <tr style=\"text-align: right;\">\n",
       "      <th></th>\n",
       "      <th>Id</th>\n",
       "      <th>DayOfWeek</th>\n",
       "      <th>Open</th>\n",
       "      <th>Promo</th>\n",
       "      <th>StateHoliday</th>\n",
       "      <th>SchoolHoliday</th>\n",
       "      <th>Year</th>\n",
       "      <th>Month</th>\n",
       "      <th>StoreType</th>\n",
       "      <th>Assortment</th>\n",
       "      <th>CompetitionDistance</th>\n",
       "      <th>CompetitionOpenSinceMonth</th>\n",
       "      <th>CompetitionOpenSinceYear</th>\n",
       "      <th>Promo2</th>\n",
       "      <th>Promo2SinceWeek</th>\n",
       "      <th>Promo2SinceYear</th>\n",
       "      <th>PromoInterval</th>\n",
       "    </tr>\n",
       "  </thead>\n",
       "  <tbody>\n",
       "    <tr>\n",
       "      <th>0</th>\n",
       "      <td>1</td>\n",
       "      <td>4</td>\n",
       "      <td>1.0</td>\n",
       "      <td>1</td>\n",
       "      <td>0</td>\n",
       "      <td>0</td>\n",
       "      <td>2015</td>\n",
       "      <td>9</td>\n",
       "      <td>c</td>\n",
       "      <td>a</td>\n",
       "      <td>1270.0</td>\n",
       "      <td>9.0</td>\n",
       "      <td>2008.0</td>\n",
       "      <td>0</td>\n",
       "      <td>NaN</td>\n",
       "      <td>NaN</td>\n",
       "      <td>NaN</td>\n",
       "    </tr>\n",
       "    <tr>\n",
       "      <th>1</th>\n",
       "      <td>0</td>\n",
       "      <td>4</td>\n",
       "      <td>0.0</td>\n",
       "      <td>0</td>\n",
       "      <td>0</td>\n",
       "      <td>0</td>\n",
       "      <td>2015</td>\n",
       "      <td>9</td>\n",
       "      <td>a</td>\n",
       "      <td>a</td>\n",
       "      <td>570.0</td>\n",
       "      <td>11.0</td>\n",
       "      <td>2007.0</td>\n",
       "      <td>1</td>\n",
       "      <td>13.0</td>\n",
       "      <td>2010.0</td>\n",
       "      <td>Jan,Apr,Jul,Oct</td>\n",
       "    </tr>\n",
       "    <tr>\n",
       "      <th>2</th>\n",
       "      <td>2</td>\n",
       "      <td>4</td>\n",
       "      <td>1.0</td>\n",
       "      <td>1</td>\n",
       "      <td>0</td>\n",
       "      <td>0</td>\n",
       "      <td>2015</td>\n",
       "      <td>9</td>\n",
       "      <td>a</td>\n",
       "      <td>a</td>\n",
       "      <td>14130.0</td>\n",
       "      <td>12.0</td>\n",
       "      <td>2006.0</td>\n",
       "      <td>1</td>\n",
       "      <td>14.0</td>\n",
       "      <td>2011.0</td>\n",
       "      <td>Jan,Apr,Jul,Oct</td>\n",
       "    </tr>\n",
       "    <tr>\n",
       "      <th>3</th>\n",
       "      <td>0</td>\n",
       "      <td>4</td>\n",
       "      <td>0.0</td>\n",
       "      <td>0</td>\n",
       "      <td>0</td>\n",
       "      <td>0</td>\n",
       "      <td>2015</td>\n",
       "      <td>9</td>\n",
       "      <td>c</td>\n",
       "      <td>c</td>\n",
       "      <td>620.0</td>\n",
       "      <td>9.0</td>\n",
       "      <td>2009.0</td>\n",
       "      <td>0</td>\n",
       "      <td>NaN</td>\n",
       "      <td>NaN</td>\n",
       "      <td>NaN</td>\n",
       "    </tr>\n",
       "    <tr>\n",
       "      <th>4</th>\n",
       "      <td>0</td>\n",
       "      <td>4</td>\n",
       "      <td>0.0</td>\n",
       "      <td>0</td>\n",
       "      <td>0</td>\n",
       "      <td>0</td>\n",
       "      <td>2015</td>\n",
       "      <td>9</td>\n",
       "      <td>a</td>\n",
       "      <td>a</td>\n",
       "      <td>29910.0</td>\n",
       "      <td>4.0</td>\n",
       "      <td>2015.0</td>\n",
       "      <td>0</td>\n",
       "      <td>NaN</td>\n",
       "      <td>NaN</td>\n",
       "      <td>NaN</td>\n",
       "    </tr>\n",
       "  </tbody>\n",
       "</table>\n",
       "</div>"
      ],
      "text/plain": [
       "   Id  DayOfWeek  Open  Promo StateHoliday  SchoolHoliday  Year  Month  \\\n",
       "0   1          4   1.0      1            0              0  2015      9   \n",
       "1   0          4   0.0      0            0              0  2015      9   \n",
       "2   2          4   1.0      1            0              0  2015      9   \n",
       "3   0          4   0.0      0            0              0  2015      9   \n",
       "4   0          4   0.0      0            0              0  2015      9   \n",
       "\n",
       "  StoreType Assortment  CompetitionDistance  CompetitionOpenSinceMonth  \\\n",
       "0         c          a               1270.0                        9.0   \n",
       "1         a          a                570.0                       11.0   \n",
       "2         a          a              14130.0                       12.0   \n",
       "3         c          c                620.0                        9.0   \n",
       "4         a          a              29910.0                        4.0   \n",
       "\n",
       "   CompetitionOpenSinceYear  Promo2  Promo2SinceWeek  Promo2SinceYear  \\\n",
       "0                    2008.0       0              NaN              NaN   \n",
       "1                    2007.0       1             13.0           2010.0   \n",
       "2                    2006.0       1             14.0           2011.0   \n",
       "3                    2009.0       0              NaN              NaN   \n",
       "4                    2015.0       0              NaN              NaN   \n",
       "\n",
       "     PromoInterval  \n",
       "0              NaN  \n",
       "1  Jan,Apr,Jul,Oct  \n",
       "2  Jan,Apr,Jul,Oct  \n",
       "3              NaN  \n",
       "4              NaN  "
      ]
     },
     "execution_count": 9,
     "metadata": {},
     "output_type": "execute_result"
    }
   ],
   "source": [
    "testing_store = pd.merge(testing, stores, how = 'left', on = 'Store')\n",
    "testing_store.drop([\"Store\"], axis = 1, inplace = True)\n",
    "testing_store.head()"
   ]
  },
  {
   "cell_type": "markdown",
   "metadata": {},
   "source": [
    "### Below, we can see that there are some columns with missing data\n",
    "\n",
    "This can cause problems later on, so we impute them with the median value"
   ]
  },
  {
   "cell_type": "code",
   "execution_count": 10,
   "metadata": {},
   "outputs": [
    {
     "data": {
      "text/plain": [
       "DayOfWeek                         0\n",
       "Sales                             0\n",
       "Customers                         0\n",
       "Open                              0\n",
       "Promo                             0\n",
       "StateHoliday                      0\n",
       "SchoolHoliday                     0\n",
       "Year                              0\n",
       "Month                             0\n",
       "StoreType                         0\n",
       "Assortment                        0\n",
       "CompetitionDistance            2826\n",
       "CompetitionOpenSinceMonth    333468\n",
       "CompetitionOpenSinceYear     333468\n",
       "Promo2                            0\n",
       "Promo2SinceWeek              512448\n",
       "Promo2SinceYear              512448\n",
       "PromoInterval                512448\n",
       "dtype: int64"
      ]
     },
     "execution_count": 10,
     "metadata": {},
     "output_type": "execute_result"
    }
   ],
   "source": [
    "training_store.isnull().sum()"
   ]
  },
  {
   "cell_type": "markdown",
   "metadata": {},
   "source": [
    "#### We impute the missing values with the median of their respective columns and drop the column PromoInterval as it has little relation to the sales "
   ]
  },
  {
   "cell_type": "code",
   "execution_count": 11,
   "metadata": {},
   "outputs": [],
   "source": [
    "median_sales = training_store['Sales'].astype('float').median(axis = 0)\n",
    "#training_store['Sales'].replace(np.nan, median_sales, inplace = True)\n",
    "\n",
    "median_customers = training_store['Customers'].astype('float').median(axis = 0)\n",
    "#training_store['Customers'].replace(np.nan, median_customers, inplace = True)\n",
    "\n",
    "median_comp_dist = training_store['CompetitionDistance'].astype('float').median(axis = 0)\n",
    "training_store['CompetitionDistance'].replace(np.nan, math.floor(median_comp_dist), inplace = True)\n",
    "\n",
    "median_comp_month = training_store['CompetitionOpenSinceMonth'].astype('float').median(axis = 0)\n",
    "training_store['CompetitionOpenSinceMonth'].replace(np.nan, math.floor(median_comp_month), inplace = True)\n",
    "\n",
    "median_comp_year = training_store['CompetitionOpenSinceYear'].astype('float').median(axis = 0)\n",
    "training_store['CompetitionOpenSinceYear'].replace(np.nan, math.floor(median_comp_year), inplace = True)\n",
    "\n",
    "median_promo2_week = training_store['Promo2SinceWeek'].astype('float').median(axis = 0)\n",
    "training_store['Promo2SinceWeek'].replace(np.nan, math.floor(median_promo2_week), inplace = True)\n",
    "\n",
    "median_promo2_year = training_store['Promo2SinceYear'].astype('float').median(axis = 0)\n",
    "training_store['Promo2SinceYear'].replace(np.nan, math.floor(median_promo2_year), inplace = True)\n",
    "\n",
    "training_store.drop(['PromoInterval'], axis = 1, inplace = True)"
   ]
  },
  {
   "cell_type": "markdown",
   "metadata": {},
   "source": [
    "#### The missing data is also imputed in the test set"
   ]
  },
  {
   "cell_type": "code",
   "execution_count": 12,
   "metadata": {},
   "outputs": [],
   "source": [
    "median_comp_dist = testing_store['CompetitionDistance'].astype('float').median(axis = 0)\n",
    "testing_store['CompetitionDistance'].replace(np.nan, math.floor(median_comp_dist), inplace = True)\n",
    "\n",
    "median_comp_month = testing_store['CompetitionOpenSinceMonth'].astype('float').median(axis = 0)\n",
    "testing_store['CompetitionOpenSinceMonth'].replace(np.nan, math.floor(median_comp_month), inplace = True)\n",
    "\n",
    "median_comp_year = testing_store['CompetitionOpenSinceYear'].astype('float').median(axis = 0)\n",
    "testing_store['CompetitionOpenSinceYear'].replace(np.nan, math.floor(median_comp_year), inplace = True)\n",
    "\n",
    "median_promo2_week = testing_store['Promo2SinceWeek'].astype('float').median(axis = 0)\n",
    "testing_store['Promo2SinceWeek'].replace(np.nan, math.floor(median_promo2_week), inplace = True)\n",
    "\n",
    "median_promo2_year = testing_store['Promo2SinceYear'].astype('float').median(axis = 0)\n",
    "testing_store['Promo2SinceYear'].replace(np.nan, math.floor(median_promo2_year), inplace = True)\n",
    "\n",
    "median_open = testing_store['Open'].astype('float').median(axis = 0)\n",
    "testing_store['Open'].replace(np.nan, math.floor(median_open), inplace = True)\n",
    "\n",
    "testing_store.drop(['PromoInterval'], axis = 1, inplace = True)"
   ]
  },
  {
   "cell_type": "markdown",
   "metadata": {},
   "source": [
    "### Below we can see that all the missing data has been successfully imputed"
   ]
  },
  {
   "cell_type": "code",
   "execution_count": 13,
   "metadata": {
    "scrolled": true
   },
   "outputs": [
    {
     "data": {
      "text/plain": [
       "DayOfWeek                    0\n",
       "Sales                        0\n",
       "Customers                    0\n",
       "Open                         0\n",
       "Promo                        0\n",
       "StateHoliday                 0\n",
       "SchoolHoliday                0\n",
       "Year                         0\n",
       "Month                        0\n",
       "StoreType                    0\n",
       "Assortment                   0\n",
       "CompetitionDistance          0\n",
       "CompetitionOpenSinceMonth    0\n",
       "CompetitionOpenSinceYear     0\n",
       "Promo2                       0\n",
       "Promo2SinceWeek              0\n",
       "Promo2SinceYear              0\n",
       "dtype: int64"
      ]
     },
     "execution_count": 13,
     "metadata": {},
     "output_type": "execute_result"
    }
   ],
   "source": [
    "training_store.isnull().sum()"
   ]
  },
  {
   "cell_type": "code",
   "execution_count": 14,
   "metadata": {},
   "outputs": [
    {
     "data": {
      "text/plain": [
       "Id                           0\n",
       "DayOfWeek                    0\n",
       "Open                         0\n",
       "Promo                        0\n",
       "StateHoliday                 0\n",
       "SchoolHoliday                0\n",
       "Year                         0\n",
       "Month                        0\n",
       "StoreType                    0\n",
       "Assortment                   0\n",
       "CompetitionDistance          0\n",
       "CompetitionOpenSinceMonth    0\n",
       "CompetitionOpenSinceYear     0\n",
       "Promo2                       0\n",
       "Promo2SinceWeek              0\n",
       "Promo2SinceYear              0\n",
       "dtype: int64"
      ]
     },
     "execution_count": 14,
     "metadata": {},
     "output_type": "execute_result"
    }
   ],
   "source": [
    "testing_store.isnull().sum()"
   ]
  },
  {
   "cell_type": "markdown",
   "metadata": {},
   "source": [
    "### Dummy variables are used to one-hot encode several columns\n",
    "\n",
    "Mainly DayOfWeek, StoreType and StateHoliday, because numerical values should only be used for comparable variables. It does not make sense, for example, to say that Tuesday is more important than Wednesday."
   ]
  },
  {
   "cell_type": "code",
   "execution_count": 15,
   "metadata": {},
   "outputs": [],
   "source": [
    "training_day_dummies = pd.get_dummies(training_store['DayOfWeek'], prefix='Day')\n",
    "testing_day_dummies = pd.get_dummies(testing_store['DayOfWeek'], prefix='Day')\n",
    "\n",
    "training_storetype_dummies = pd.get_dummies(training_store['StoreType'], prefix='StoreType')\n",
    "testing_storetype_dummies = pd.get_dummies(testing_store['StoreType'], prefix='StoreType')\n",
    "\n",
    "training_stateholiday_dummies = pd.get_dummies(training_store['StateHoliday'], prefix='StateHoliday')\n",
    "testing_stateholiday_dummies = pd.get_dummies(testing_store['StateHoliday'], prefix='StateHoliday')\n",
    "\n",
    "training_store = training_store.join(training_day_dummies)\n",
    "training_store = training_store.join(training_storetype_dummies)\n",
    "training_store = training_store.join(training_stateholiday_dummies)\n",
    "testing_store = testing_store.join(testing_day_dummies)\n",
    "testing_store = testing_store.join(testing_storetype_dummies)\n",
    "testing_store = testing_store.join(testing_stateholiday_dummies)"
   ]
  },
  {
   "cell_type": "code",
   "execution_count": 16,
   "metadata": {},
   "outputs": [],
   "source": [
    "training_store.drop(['DayOfWeek'], axis = 1, inplace = True)\n",
    "training_store.drop(['StoreType'], axis = 1, inplace = True)\n",
    "training_store.drop(['StateHoliday'], axis = 1, inplace = True)\n",
    "testing_store.drop(['DayOfWeek'], axis = 1, inplace = True)\n",
    "testing_store.drop(['StoreType'], axis = 1, inplace = True)\n",
    "testing_store.drop(['StateHoliday'], axis = 1, inplace = True)\n",
    "testing_store['StateHoliday_b'] = 0\n",
    "testing_store['StateHoliday_c'] = 0"
   ]
  },
  {
   "cell_type": "markdown",
   "metadata": {},
   "source": [
    "#### Here we calculate the sales per customer, and note that an average of 9.49 dollars is earned from a customer at a particular store"
   ]
  },
  {
   "cell_type": "code",
   "execution_count": 17,
   "metadata": {},
   "outputs": [
    {
     "data": {
      "text/plain": [
       "count    844340.000000\n",
       "mean          9.493619\n",
       "std           2.197494\n",
       "min           0.000000\n",
       "25%           7.895563\n",
       "50%           9.250000\n",
       "75%          10.899729\n",
       "max          64.957854\n",
       "dtype: float64"
      ]
     },
     "execution_count": 17,
     "metadata": {},
     "output_type": "execute_result"
    }
   ],
   "source": [
    "# Adding new variable\n",
    "Sales_per_customer = training_store['Sales'] / training_store['Customers']\n",
    "Sales_per_customer.describe()"
   ]
  },
  {
   "cell_type": "markdown",
   "metadata": {},
   "source": [
    "#### Next, the assortment values are converted into numerical values\n",
    "\n",
    "This is because basic, extra and extended imply that the variable has increasing levels of importance"
   ]
  },
  {
   "cell_type": "code",
   "execution_count": 18,
   "metadata": {},
   "outputs": [],
   "source": [
    "cleanup_Assortment = {\"Assortment\": {\"a\": 0, \"b\": 1, \"c\": 2}}\n",
    "training_store.replace(cleanup_Assortment, inplace = True)\n",
    "testing_store.replace(cleanup_Assortment, inplace = True)"
   ]
  },
  {
   "cell_type": "markdown",
   "metadata": {},
   "source": [
    "#### One can observe below that all the values are now numerical, so they can be normalized and sent to the network"
   ]
  },
  {
   "cell_type": "code",
   "execution_count": 19,
   "metadata": {},
   "outputs": [
    {
     "data": {
      "text/plain": [
       "Sales                          int64\n",
       "Customers                      int64\n",
       "Open                           int64\n",
       "Promo                          int64\n",
       "SchoolHoliday                  int64\n",
       "Year                           int64\n",
       "Month                          int64\n",
       "Assortment                     int64\n",
       "CompetitionDistance          float64\n",
       "CompetitionOpenSinceMonth    float64\n",
       "CompetitionOpenSinceYear     float64\n",
       "Promo2                         int64\n",
       "Promo2SinceWeek              float64\n",
       "Promo2SinceYear              float64\n",
       "Day_1                          uint8\n",
       "Day_2                          uint8\n",
       "Day_3                          uint8\n",
       "Day_4                          uint8\n",
       "Day_5                          uint8\n",
       "Day_6                          uint8\n",
       "Day_7                          uint8\n",
       "StoreType_a                    uint8\n",
       "StoreType_b                    uint8\n",
       "StoreType_c                    uint8\n",
       "StoreType_d                    uint8\n",
       "StateHoliday_0                 uint8\n",
       "StateHoliday_a                 uint8\n",
       "StateHoliday_b                 uint8\n",
       "StateHoliday_c                 uint8\n",
       "dtype: object"
      ]
     },
     "execution_count": 19,
     "metadata": {},
     "output_type": "execute_result"
    }
   ],
   "source": [
    "training_store.dtypes"
   ]
  },
  {
   "cell_type": "code",
   "execution_count": 20,
   "metadata": {
    "scrolled": true
   },
   "outputs": [
    {
     "data": {
      "text/plain": [
       "Id                             int64\n",
       "Open                         float64\n",
       "Promo                          int64\n",
       "SchoolHoliday                  int64\n",
       "Year                           int64\n",
       "Month                          int64\n",
       "Assortment                     int64\n",
       "CompetitionDistance          float64\n",
       "CompetitionOpenSinceMonth    float64\n",
       "CompetitionOpenSinceYear     float64\n",
       "Promo2                         int64\n",
       "Promo2SinceWeek              float64\n",
       "Promo2SinceYear              float64\n",
       "Day_1                          uint8\n",
       "Day_2                          uint8\n",
       "Day_3                          uint8\n",
       "Day_4                          uint8\n",
       "Day_5                          uint8\n",
       "Day_6                          uint8\n",
       "Day_7                          uint8\n",
       "StoreType_a                    uint8\n",
       "StoreType_b                    uint8\n",
       "StoreType_c                    uint8\n",
       "StoreType_d                    uint8\n",
       "StateHoliday_0                 uint8\n",
       "StateHoliday_a                 uint8\n",
       "StateHoliday_b                 int64\n",
       "StateHoliday_c                 int64\n",
       "dtype: object"
      ]
     },
     "execution_count": 20,
     "metadata": {},
     "output_type": "execute_result"
    }
   ],
   "source": [
    "testing_store.dtypes"
   ]
  },
  {
   "cell_type": "markdown",
   "metadata": {},
   "source": [
    "### Here, the training data is split into input and output variables using numpy:"
   ]
  },
  {
   "cell_type": "code",
   "execution_count": 21,
   "metadata": {},
   "outputs": [],
   "source": [
    "X = training_store.drop(columns=[\"Sales\", \"Customers\"]).to_numpy()\n",
    "y = training_store['Sales'].to_numpy()\n",
    "X_test = testing_store.drop(columns=[\"Id\"]).to_numpy()"
   ]
  },
  {
   "cell_type": "markdown",
   "metadata": {},
   "source": [
    "#### The input values are then normalised\n",
    "\n",
    "We tried normalising the output, but we noted that it had a worse effect on the learning of the network than leaving the data alone. We believe this is because there are a lot of columns with zeroes, and by normalising it is easier for the network to predict only zeroes."
   ]
  },
  {
   "cell_type": "code",
   "execution_count": 22,
   "metadata": {},
   "outputs": [],
   "source": [
    "inputScaler = MinMaxScaler()\n",
    "inputScaler.fit(X)\n",
    "X = inputScaler.transform(X)\n",
    "X_test = inputScaler.transform(X_test)\n",
    "#y = y.reshape(-1, 1)\n",
    "#outputScaler = MinMaxScaler()\n",
    "#outputScaler.fit(y)\n",
    "#y = outputScaler.transform(y)"
   ]
  },
  {
   "cell_type": "markdown",
   "metadata": {},
   "source": [
    "### To make the data fit the CNN, we reshape it into multiple dimensions\n",
    "\n",
    "The training data is separated into 942 tables, each one corresponding to one consecutive day of the year. These tables have 1115 rows (one for each store) with 27 columns of features.\n",
    "\n",
    "The idea is that the CNN uses a filter to compare similar stores over different days to predict the sales.\n",
    "\n",
    "The test data is only split into 48 days of tables."
   ]
  },
  {
   "cell_type": "code",
   "execution_count": 23,
   "metadata": {},
   "outputs": [],
   "source": [
    "X = np.reshape(X, (942, 1115, 27))\n",
    "y = np.reshape(y, (942, 1115))\n",
    "X_test = np.reshape(X_test, (48, 1115, 27))\n",
    "X = np.expand_dims(X, axis = 3)\n",
    "X_test = np.expand_dims(X_test, axis = 3)"
   ]
  },
  {
   "cell_type": "markdown",
   "metadata": {},
   "source": [
    "Here, we can see the shape of the data is consistent with what we want"
   ]
  },
  {
   "cell_type": "code",
   "execution_count": 24,
   "metadata": {},
   "outputs": [
    {
     "name": "stdout",
     "output_type": "stream",
     "text": [
      "X:\t (942, 1115, 27, 1)\n",
      "y:\t (942, 1115)\n",
      "X_test:\t (48, 1115, 27, 1)\n"
     ]
    }
   ],
   "source": [
    "print(\"X:\\t\", X.shape)\n",
    "print(\"y:\\t\", y.shape)\n",
    "print(\"X_test:\\t\", X_test.shape)"
   ]
  },
  {
   "cell_type": "markdown",
   "metadata": {},
   "source": [
    "### Finally, the data can be split into training and validation sets\n",
    "\n",
    "The data is split into 75% training data and 25% validation data"
   ]
  },
  {
   "cell_type": "code",
   "execution_count": 25,
   "metadata": {},
   "outputs": [],
   "source": [
    "X_train, X_validation, y_train, y_validation = train_test_split(X, y, test_size=0.25, random_state = 42, shuffle=True)"
   ]
  },
  {
   "cell_type": "markdown",
   "metadata": {},
   "source": [
    "### The Neural Network is constructed in the following lines\n",
    "\n",
    "We are using a deep convolutional neural network with a convolutional layer that contains 30 10x10 filters, which feeds into another convolutional layer with 25 4x4 filters. This layer is then sent into a 2x2 pooling layer. The result is then flattened and output into a set of 1115 output neurons (one for each store)."
   ]
  },
  {
   "cell_type": "code",
   "execution_count": 26,
   "metadata": {},
   "outputs": [],
   "source": [
    "model = Sequential()\n",
    "\n",
    "model.add(Conv2D(30, 10, input_shape = (1115, 27, 1)))\n",
    "model.add(Conv2D(25, 4, input_shape = (1115, 27, 1)))\n",
    "model.add(MaxPooling2D(pool_size = 2))\n",
    "model.add(Flatten())\n",
    "model.add(Dense(1115, activation='relu'))"
   ]
  },
  {
   "cell_type": "markdown",
   "metadata": {},
   "source": [
    "#### Here, we use the Adam optimizer with a learning rate of 0.005 and a decay of 10^-6\n",
    "\n",
    "We also use mean square error as the loss function"
   ]
  },
  {
   "cell_type": "code",
   "execution_count": 27,
   "metadata": {},
   "outputs": [],
   "source": [
    "opt = keras.optimizers.Adam(lr=0.005, decay=1e-6)\n",
    "\n",
    "model.compile(\n",
    "    loss='mse',\n",
    "    optimizer=opt,\n",
    "    metrics=['accuracy'],\n",
    ")"
   ]
  },
  {
   "cell_type": "markdown",
   "metadata": {},
   "source": [
    "### We can finally train the network\n",
    "\n",
    "The network is trained for 20 epochs with a batch size of 10. An early stopping criterion is used to stop the network if no progress is made. This criterion also returns the best set of weights that it found while training the network."
   ]
  },
  {
   "cell_type": "code",
   "execution_count": 28,
   "metadata": {},
   "outputs": [
    {
     "name": "stdout",
     "output_type": "stream",
     "text": [
      "Train on 706 samples, validate on 236 samples\n",
      "Epoch 1/20\n",
      "706/706 [==============================] - 133s 189ms/step - loss: 22394384.1841 - accuracy: 0.1742 - val_loss: 18719110.1525 - val_accuracy: 0.4661\n",
      "Epoch 2/20\n",
      "706/706 [==============================] - 132s 187ms/step - loss: 15064798.8244 - accuracy: 0.4490 - val_loss: 13134284.4661 - val_accuracy: 0.2076\n",
      "Epoch 3/20\n",
      "706/706 [==============================] - 128s 181ms/step - loss: 12121371.6813 - accuracy: 0.5241 - val_loss: 11768578.8305 - val_accuracy: 0.5932\n",
      "Epoch 4/20\n",
      "706/706 [==============================] - 127s 179ms/step - loss: 10826760.7295 - accuracy: 0.6487 - val_loss: 10782480.4322 - val_accuracy: 0.6949\n",
      "Epoch 5/20\n",
      "706/706 [==============================] - 126s 179ms/step - loss: 10299392.4235 - accuracy: 0.7153 - val_loss: 10463174.9788 - val_accuracy: 0.7034\n",
      "Epoch 6/20\n",
      "706/706 [==============================] - 124s 175ms/step - loss: 10070239.8839 - accuracy: 0.7054 - val_loss: 10230729.7415 - val_accuracy: 0.7034\n",
      "Epoch 7/20\n",
      "706/706 [==============================] - 124s 176ms/step - loss: 9708342.1686 - accuracy: 0.7139 - val_loss: 9839445.1017 - val_accuracy: 0.7076\n",
      "Epoch 8/20\n",
      "706/706 [==============================] - 124s 176ms/step - loss: 9480379.6749 - accuracy: 0.7295 - val_loss: 9784463.9280 - val_accuracy: 0.7288\n",
      "Epoch 9/20\n",
      "706/706 [==============================] - 124s 176ms/step - loss: 9475035.5751 - accuracy: 0.7195 - val_loss: 9877114.3856 - val_accuracy: 0.7415\n",
      "Epoch 10/20\n",
      "706/706 [==============================] - 125s 177ms/step - loss: 9423623.8470 - accuracy: 0.7365 - val_loss: 9664596.1610 - val_accuracy: 0.7373\n",
      "Epoch 11/20\n",
      "706/706 [==============================] - 124s 176ms/step - loss: 9302002.6827 - accuracy: 0.7479 - val_loss: 9541383.0466 - val_accuracy: 0.7458\n",
      "Epoch 12/20\n",
      "706/706 [==============================] - 124s 176ms/step - loss: 9228641.5283 - accuracy: 0.7422 - val_loss: 9505164.2712 - val_accuracy: 0.7542\n",
      "Epoch 13/20\n",
      "706/706 [==============================] - 124s 176ms/step - loss: 9148886.6232 - accuracy: 0.7436 - val_loss: 9530882.8814 - val_accuracy: 0.7542\n",
      "Epoch 14/20\n",
      "706/706 [==============================] - 124s 176ms/step - loss: 9174888.4873 - accuracy: 0.7507 - val_loss: 9456185.7500 - val_accuracy: 0.7500\n",
      "Epoch 15/20\n",
      "706/706 [==============================] - 124s 176ms/step - loss: 9013418.5368 - accuracy: 0.7436 - val_loss: 9312062.4534 - val_accuracy: 0.7458\n",
      "Epoch 16/20\n",
      "706/706 [==============================] - 126s 178ms/step - loss: 8948824.0857 - accuracy: 0.7465 - val_loss: 9255547.1780 - val_accuracy: 0.7458\n",
      "Epoch 17/20\n",
      "706/706 [==============================] - 126s 178ms/step - loss: 8997730.3952 - accuracy: 0.7507 - val_loss: 9121324.0169 - val_accuracy: 0.7458\n",
      "Epoch 18/20\n",
      "706/706 [==============================] - 125s 178ms/step - loss: 8864474.6742 - accuracy: 0.7507 - val_loss: 9332922.8559 - val_accuracy: 0.7415\n",
      "Epoch 19/20\n",
      "706/706 [==============================] - 124s 176ms/step - loss: 8807675.1006 - accuracy: 0.7550 - val_loss: 9376203.9703 - val_accuracy: 0.7415\n",
      "Epoch 20/20\n",
      "706/706 [==============================] - 125s 176ms/step - loss: 8757253.8237 - accuracy: 0.7564 - val_loss: 9050704.0636 - val_accuracy: 0.7373\n"
     ]
    },
    {
     "data": {
      "text/plain": [
       "<keras.callbacks.callbacks.History at 0x7f053b989150>"
      ]
     },
     "execution_count": 28,
     "metadata": {},
     "output_type": "execute_result"
    }
   ],
   "source": [
    "model.fit(X_train, y_train, epochs = 20, batch_size = 10, validation_data = (X_validation, y_validation), callbacks = [\n",
    "    EarlyStopping(monitor = 'val_loss', min_delta = 1e-3, patience = 3, verbose = 1, mode = 'auto', restore_best_weights = True)\n",
    "])"
   ]
  },
  {
   "cell_type": "markdown",
   "metadata": {},
   "source": [
    "The validation accuracy is somewhat acceptable, at around 76%\n",
    "\n",
    "The next step is to predict and format the output, by turning it into a single column of data (the sales)"
   ]
  },
  {
   "cell_type": "code",
   "execution_count": 29,
   "metadata": {},
   "outputs": [],
   "source": [
    "y_test = model.predict(X_test)\n",
    "#y_test = outputScaler.inverse_transform(model.predict(X_test))\n",
    "output = np.reshape(y_test, 48 * 1115)"
   ]
  },
  {
   "cell_type": "markdown",
   "metadata": {},
   "source": [
    "As the last step of the assignment, the results are saved to the submission.csv file. Because the test data had extra rows inserted with an Id of zero, we ignore these rows while exporting the results."
   ]
  },
  {
   "cell_type": "code",
   "execution_count": 31,
   "metadata": {},
   "outputs": [],
   "source": [
    "outputRows = []\n",
    "for index in range(len(output)):\n",
    "    if testing_store[\"Id\"].iloc[index] == 0:\n",
    "        continue\n",
    "    outputRows.append(output[index])\n",
    "outputFile = open(\"submission.csv\", \"w\")\n",
    "outputFile.write('\"Id\",\"Sales\"\\n')\n",
    "for row in range(len(outputRows)):\n",
    "    outputFile.write(f\"{row + 1},{outputRows[row]}\\n\")\n",
    "outputFile.close()"
   ]
  }
 ],
 "metadata": {
  "kernelspec": {
   "display_name": "Python 3",
   "language": "python",
   "name": "python3"
  },
  "language_info": {
   "codemirror_mode": {
    "name": "ipython",
    "version": 3
   },
   "file_extension": ".py",
   "mimetype": "text/x-python",
   "name": "python",
   "nbconvert_exporter": "python",
   "pygments_lexer": "ipython3",
   "version": "3.7.9"
  }
 },
 "nbformat": 4,
 "nbformat_minor": 4
}
