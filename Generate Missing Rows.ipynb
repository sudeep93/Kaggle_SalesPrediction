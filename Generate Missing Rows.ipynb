{
 "cells": [
  {
   "cell_type": "markdown",
   "metadata": {},
   "source": [
    "### The data has missing rows for each day, so this script generates them without numpy because it is faster\n",
    "\n",
    "First, the training data file is opened and stored in the variable rows"
   ]
  },
  {
   "cell_type": "code",
   "execution_count": 1,
   "metadata": {},
   "outputs": [],
   "source": [
    "inputFile = open(\"train.csv\")\n",
    "rows = []\n",
    "for row in inputFile:\n",
    "    cleanRow = row.rstrip()\n",
    "    rows.append(cleanRow.split(\",\"))\n",
    "inputFile.close()"
   ]
  },
  {
   "cell_type": "markdown",
   "metadata": {},
   "source": [
    "Then, the following loop iterates over all missing rows, marking them as closed on that day"
   ]
  },
  {
   "cell_type": "code",
   "execution_count": 2,
   "metadata": {},
   "outputs": [],
   "source": [
    "currentIndex = 1\n",
    "currentStore = 0\n",
    "while currentIndex < len(rows):\n",
    "    store = int(rows[currentIndex][0])\n",
    "    if store != currentStore + 1:\n",
    "        generatedRow = [str(currentStore + 1), rows[currentIndex - 1][1], rows[currentIndex - 1][2], \"0\", \"0\", \"0\", \"0\", rows[currentIndex - 1][7], rows[currentIndex - 1][8]]\n",
    "        rows.insert(currentIndex, generatedRow)\n",
    "    currentIndex += 1\n",
    "    currentStore = (currentStore + 1) % 1115"
   ]
  },
  {
   "cell_type": "markdown",
   "metadata": {},
   "source": [
    "Finally, it stores the result in the file called train_complete.csv"
   ]
  },
  {
   "cell_type": "code",
   "execution_count": 3,
   "metadata": {},
   "outputs": [],
   "source": [
    "outputFile = open(\"train_complete.csv\", \"w\")\n",
    "for row in rows:\n",
    "    outputFile.write(\",\".join(row)+\"\\n\")\n",
    "outputFile.close()"
   ]
  },
  {
   "cell_type": "markdown",
   "metadata": {},
   "source": [
    "The same thing is done for the testing data, except every row that has been added is given an ID of 0 to differentiate the rows that should be sent to Kaggle"
   ]
  },
  {
   "cell_type": "code",
   "execution_count": 4,
   "metadata": {},
   "outputs": [],
   "source": [
    "inputFile = open(\"test.csv\")\n",
    "rows = []\n",
    "for row in inputFile:\n",
    "    cleanRow = row.rstrip()\n",
    "    rows.append(cleanRow.split(\",\"))\n",
    "inputFile.close()"
   ]
  },
  {
   "cell_type": "code",
   "execution_count": 5,
   "metadata": {},
   "outputs": [],
   "source": [
    "currentIndex = 1\n",
    "currentStore = 0\n",
    "while currentIndex < len(rows):\n",
    "    store = int(rows[currentIndex][1])\n",
    "    if store != currentStore + 1:\n",
    "        generatedRow = [\"0\", str(currentStore + 1), rows[currentIndex - 1][2], rows[currentIndex - 1][3], \"0\", \"0\", rows[currentIndex - 1][6], rows[currentIndex - 1][7]]\n",
    "        rows.insert(currentIndex, generatedRow)\n",
    "    currentIndex += 1\n",
    "    currentStore = (currentStore + 1) % 1115"
   ]
  },
  {
   "cell_type": "code",
   "execution_count": 6,
   "metadata": {},
   "outputs": [],
   "source": [
    "outputFile = open(\"test_complete.csv\", \"w\")\n",
    "for row in rows:\n",
    "    outputFile.write(\",\".join(row)+\"\\n\")\n",
    "outputFile.close()"
   ]
  }
 ],
 "metadata": {
  "kernelspec": {
   "display_name": "Python 3",
   "language": "python",
   "name": "python3"
  },
  "language_info": {
   "codemirror_mode": {
    "name": "ipython",
    "version": 3
   },
   "file_extension": ".py",
   "mimetype": "text/x-python",
   "name": "python",
   "nbconvert_exporter": "python",
   "pygments_lexer": "ipython3",
   "version": "3.7.9"
  }
 },
 "nbformat": 4,
 "nbformat_minor": 4
}
